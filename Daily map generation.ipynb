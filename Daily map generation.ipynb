{
 "cells": [
  {
   "cell_type": "code",
   "execution_count": 1,
   "id": "0f2af60e",
   "metadata": {},
   "outputs": [
    {
     "name": "stderr",
     "output_type": "stream",
     "text": [
      "100%|██████████████████████████████████████████████████████| 5271/5271 [01:05<00:00, 80.60it/s]\n"
     ]
    },
    {
     "name": "stdout",
     "output_type": "stream",
     "text": [
      "All files from G:/Hangkai/Antarctica_MODIS_DATA\\2002_2003 have been organized by day.\n"
     ]
    },
    {
     "name": "stderr",
     "output_type": "stream",
     "text": [
      "100%|██████████████████████████████████████████████████████| 7702/7702 [01:40<00:00, 76.54it/s]\n"
     ]
    },
    {
     "name": "stdout",
     "output_type": "stream",
     "text": [
      "All files from G:/Hangkai/Antarctica_MODIS_DATA\\2003_2004 have been organized by day.\n"
     ]
    },
    {
     "name": "stderr",
     "output_type": "stream",
     "text": [
      "100%|██████████████████████████████████████████████████████| 7673/7673 [01:41<00:00, 75.50it/s]\n"
     ]
    },
    {
     "name": "stdout",
     "output_type": "stream",
     "text": [
      "All files from G:/Hangkai/Antarctica_MODIS_DATA\\2004_2005 have been organized by day.\n"
     ]
    },
    {
     "name": "stderr",
     "output_type": "stream",
     "text": [
      "100%|██████████████████████████████████████████████████████| 7675/7675 [01:39<00:00, 77.04it/s]\n"
     ]
    },
    {
     "name": "stdout",
     "output_type": "stream",
     "text": [
      "All files from G:/Hangkai/Antarctica_MODIS_DATA\\2005_2006 have been organized by day.\n"
     ]
    },
    {
     "name": "stderr",
     "output_type": "stream",
     "text": [
      "100%|██████████████████████████████████████████████████████| 7668/7668 [01:33<00:00, 81.93it/s]\n"
     ]
    },
    {
     "name": "stdout",
     "output_type": "stream",
     "text": [
      "All files from G:/Hangkai/Antarctica_MODIS_DATA\\2006_2007 have been organized by day.\n"
     ]
    },
    {
     "name": "stderr",
     "output_type": "stream",
     "text": [
      "100%|██████████████████████████████████████████████████████| 7701/7701 [01:35<00:00, 80.68it/s]\n"
     ]
    },
    {
     "name": "stdout",
     "output_type": "stream",
     "text": [
      "All files from G:/Hangkai/Antarctica_MODIS_DATA\\2007_2008 have been organized by day.\n"
     ]
    },
    {
     "name": "stderr",
     "output_type": "stream",
     "text": [
      "100%|██████████████████████████████████████████████████████| 7671/7671 [01:32<00:00, 82.60it/s]\n"
     ]
    },
    {
     "name": "stdout",
     "output_type": "stream",
     "text": [
      "All files from G:/Hangkai/Antarctica_MODIS_DATA\\2008_2009 have been organized by day.\n"
     ]
    },
    {
     "name": "stderr",
     "output_type": "stream",
     "text": [
      "100%|██████████████████████████████████████████████████████| 7701/7701 [01:40<00:00, 76.85it/s]\n"
     ]
    },
    {
     "name": "stdout",
     "output_type": "stream",
     "text": [
      "All files from G:/Hangkai/Antarctica_MODIS_DATA\\2009_2010 have been organized by day.\n"
     ]
    },
    {
     "name": "stderr",
     "output_type": "stream",
     "text": [
      "100%|██████████████████████████████████████████████████████| 7668/7668 [01:42<00:00, 75.06it/s]\n"
     ]
    },
    {
     "name": "stdout",
     "output_type": "stream",
     "text": [
      "All files from G:/Hangkai/Antarctica_MODIS_DATA\\2010_2011 have been organized by day.\n"
     ]
    },
    {
     "name": "stderr",
     "output_type": "stream",
     "text": [
      "100%|██████████████████████████████████████████████████████| 7701/7701 [01:37<00:00, 79.04it/s]\n"
     ]
    },
    {
     "name": "stdout",
     "output_type": "stream",
     "text": [
      "All files from G:/Hangkai/Antarctica_MODIS_DATA\\2011_2012 have been organized by day.\n"
     ]
    },
    {
     "name": "stderr",
     "output_type": "stream",
     "text": [
      "100%|██████████████████████████████████████████████████████| 7673/7673 [01:41<00:00, 75.66it/s]\n"
     ]
    },
    {
     "name": "stdout",
     "output_type": "stream",
     "text": [
      "All files from G:/Hangkai/Antarctica_MODIS_DATA\\2012_2013 have been organized by day.\n"
     ]
    },
    {
     "name": "stderr",
     "output_type": "stream",
     "text": [
      "100%|██████████████████████████████████████████████████████| 7671/7671 [01:37<00:00, 78.32it/s]\n"
     ]
    },
    {
     "name": "stdout",
     "output_type": "stream",
     "text": [
      "All files from G:/Hangkai/Antarctica_MODIS_DATA\\2013_2014 have been organized by day.\n"
     ]
    },
    {
     "name": "stderr",
     "output_type": "stream",
     "text": [
      "100%|██████████████████████████████████████████████████████| 7668/7668 [01:35<00:00, 80.00it/s]\n"
     ]
    },
    {
     "name": "stdout",
     "output_type": "stream",
     "text": [
      "All files from G:/Hangkai/Antarctica_MODIS_DATA\\2014_2015 have been organized by day.\n"
     ]
    },
    {
     "name": "stderr",
     "output_type": "stream",
     "text": [
      "100%|██████████████████████████████████████████████████████| 7700/7700 [01:45<00:00, 72.86it/s]\n"
     ]
    },
    {
     "name": "stdout",
     "output_type": "stream",
     "text": [
      "All files from G:/Hangkai/Antarctica_MODIS_DATA\\2015_2016 have been organized by day.\n"
     ]
    },
    {
     "name": "stderr",
     "output_type": "stream",
     "text": [
      "100%|██████████████████████████████████████████████████████| 7673/7673 [01:34<00:00, 80.89it/s]\n"
     ]
    },
    {
     "name": "stdout",
     "output_type": "stream",
     "text": [
      "All files from G:/Hangkai/Antarctica_MODIS_DATA\\2016_2017 have been organized by day.\n"
     ]
    },
    {
     "name": "stderr",
     "output_type": "stream",
     "text": [
      "100%|██████████████████████████████████████████████████████| 7669/7669 [01:39<00:00, 76.83it/s]\n"
     ]
    },
    {
     "name": "stdout",
     "output_type": "stream",
     "text": [
      "All files from G:/Hangkai/Antarctica_MODIS_DATA\\2017_2018 have been organized by day.\n"
     ]
    },
    {
     "name": "stderr",
     "output_type": "stream",
     "text": [
      "100%|██████████████████████████████████████████████████████| 7668/7668 [01:40<00:00, 76.52it/s]\n"
     ]
    },
    {
     "name": "stdout",
     "output_type": "stream",
     "text": [
      "All files from G:/Hangkai/Antarctica_MODIS_DATA\\2018_2019 have been organized by day.\n"
     ]
    },
    {
     "name": "stderr",
     "output_type": "stream",
     "text": [
      "100%|██████████████████████████████████████████████████████| 7700/7700 [01:40<00:00, 76.81it/s]\n"
     ]
    },
    {
     "name": "stdout",
     "output_type": "stream",
     "text": [
      "All files from G:/Hangkai/Antarctica_MODIS_DATA\\2019_2020 have been organized by day.\n"
     ]
    },
    {
     "name": "stderr",
     "output_type": "stream",
     "text": [
      "100%|██████████████████████████████████████████████████████| 7692/7692 [01:37<00:00, 79.15it/s]\n"
     ]
    },
    {
     "name": "stdout",
     "output_type": "stream",
     "text": [
      "All files from G:/Hangkai/Antarctica_MODIS_DATA\\2020_2021 have been organized by day.\n"
     ]
    },
    {
     "name": "stderr",
     "output_type": "stream",
     "text": [
      "100%|██████████████████████████████████████████████████████| 7664/7664 [01:50<00:00, 69.63it/s]\n"
     ]
    },
    {
     "name": "stdout",
     "output_type": "stream",
     "text": [
      "All files from G:/Hangkai/Antarctica_MODIS_DATA\\2021_2022 have been organized by day.\n"
     ]
    },
    {
     "name": "stderr",
     "output_type": "stream",
     "text": [
      "100%|██████████████████████████████████████████████████████| 7668/7668 [01:35<00:00, 80.68it/s]\n"
     ]
    },
    {
     "name": "stdout",
     "output_type": "stream",
     "text": [
      "All files from G:/Hangkai/Antarctica_MODIS_DATA\\2022_2023 have been organized by day.\n"
     ]
    },
    {
     "name": "stderr",
     "output_type": "stream",
     "text": [
      "100%|██████████████████████████████████████████████████████| 6697/6697 [01:22<00:00, 80.74it/s]"
     ]
    },
    {
     "name": "stdout",
     "output_type": "stream",
     "text": [
      "All files from G:/Hangkai/Antarctica_MODIS_DATA\\2023_2024 have been organized by day.\n",
      "Source directory G:/Hangkai/Antarctica_MODIS_DATA\\2024_2025 does not exist.\n"
     ]
    },
    {
     "name": "stderr",
     "output_type": "stream",
     "text": [
      "\n"
     ]
    }
   ],
   "source": [
    "import os\n",
    "import shutil\n",
    "from tqdm import tqdm\n",
    "\n",
    "# Base directory where all the MODIS data is stored\n",
    "base_data_dir = 'G:/Hangkai/Antarctica_MODIS_DATA'\n",
    "\n",
    "# Loop through each year and its corresponding directory\n",
    "for year in range(2002, 2025):  # Adjust the end year to include 2024\n",
    "    source_dir = os.path.join(base_data_dir, f'{year}_{year+1}')\n",
    "    target_base_dir = os.path.join(base_data_dir, f'{year}_{year+1}_Organized_by_day')\n",
    "\n",
    "    # Make sure the base directory exists\n",
    "    os.makedirs(target_base_dir, exist_ok=True)\n",
    "\n",
    "    # Check if the source directory exists to avoid errors\n",
    "    if os.path.exists(source_dir):\n",
    "        # Iterate over each file in the source directory\n",
    "        for filename in tqdm(os.listdir(source_dir)):\n",
    "            if filename.endswith('.hdf'):\n",
    "                # Extract the year and day of year from the filename\n",
    "                file_year = filename[9:13]\n",
    "                doy = filename[13:16]  # Day of year\n",
    "\n",
    "                # Create a folder path for the year and day\n",
    "                folder_path = os.path.join(target_base_dir, f'{file_year}_{doy}')\n",
    "\n",
    "                # Create the folder if it does not exist\n",
    "                os.makedirs(folder_path, exist_ok=True)\n",
    "\n",
    "                # Construct full file paths\n",
    "                source_file = os.path.join(source_dir, filename)\n",
    "                destination_file = os.path.join(folder_path, filename)\n",
    "\n",
    "                # Move the file\n",
    "                shutil.move(source_file, destination_file)\n",
    "                # print(f'Moved {filename} to {folder_path}')\n",
    "        print(f\"All files from {source_dir} have been organized by day.\")\n",
    "    else:\n",
    "        print(f\"Source directory {source_dir} does not exist.\")\n"
   ]
  }
 ],
 "metadata": {
  "kernelspec": {
   "display_name": "Python 3 (ipykernel)",
   "language": "python",
   "name": "python3"
  },
  "language_info": {
   "codemirror_mode": {
    "name": "ipython",
    "version": 3
   },
   "file_extension": ".py",
   "mimetype": "text/x-python",
   "name": "python",
   "nbconvert_exporter": "python",
   "pygments_lexer": "ipython3",
   "version": "3.9.16"
  }
 },
 "nbformat": 4,
 "nbformat_minor": 5
}
