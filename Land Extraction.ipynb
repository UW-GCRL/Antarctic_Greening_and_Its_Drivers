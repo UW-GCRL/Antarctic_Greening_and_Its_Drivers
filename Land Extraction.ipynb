{
 "cells": [
  {
   "cell_type": "code",
   "execution_count": 1,
   "id": "91b3daaa",
   "metadata": {},
   "outputs": [
    {
     "ename": "ModuleNotFoundError",
     "evalue": "No module named 'qgis'",
     "output_type": "error",
     "traceback": [
      "\u001b[1;31m---------------------------------------------------------------------------\u001b[0m",
      "\u001b[1;31mModuleNotFoundError\u001b[0m                       Traceback (most recent call last)",
      "Cell \u001b[1;32mIn[1], line 2\u001b[0m\n\u001b[0;32m      1\u001b[0m \u001b[38;5;28;01mimport\u001b[39;00m \u001b[38;5;21;01mos\u001b[39;00m\n\u001b[1;32m----> 2\u001b[0m \u001b[38;5;28;01mfrom\u001b[39;00m \u001b[38;5;21;01mqgis\u001b[39;00m \u001b[38;5;28;01mimport\u001b[39;00m processing\n\u001b[0;32m      4\u001b[0m \u001b[38;5;66;03m# Define the input and output directories\u001b[39;00m\n\u001b[0;32m      5\u001b[0m input_dir \u001b[38;5;241m=\u001b[39m \u001b[38;5;124m'\u001b[39m\u001b[38;5;124mG:/Hangkai/Anttarctic Vegetation Dynamic/Version_2_data/Antractic_Max_NDVI_every_year/Different_Threshold/\u001b[39m\u001b[38;5;124m'\u001b[39m\n",
      "\u001b[1;31mModuleNotFoundError\u001b[0m: No module named 'qgis'"
     ]
    }
   ],
   "source": [
    "import os\n",
    "from qgis import processing\n",
    "\n",
    "# Define the input and output directories\n",
    "input_dir = 'G:/Hangkai/Anttarctic Vegetation Dynamic/Version_2_data/Antractic_Max_NDVI_every_year/Different_Threshold/'\n",
    "output_dir = 'G:/Hangkai/Anttarctic Vegetation Dynamic/Version_2_data/Antractic_Max_NDVI_every_year/WHOLE MAP/'\n",
    "\n",
    "# Loop through the years from 2002 to 2023\n",
    "for year in range(2002, 2024):\n",
    "    # Define the input file names\n",
    "    input_file_1 = os.path.join(input_dir, f'MaxNDVI_00_{year}-0000000000-0000000000.tif')\n",
    "    input_file_2 = os.path.join(input_dir, f'MaxNDVI_00_{year}-0000000000-0000023296.tif')\n",
    "    \n",
    "    # Define the output file name\n",
    "    output_file = os.path.join(output_dir, f'NDVIMAX_{year}.tif')\n",
    "    \n",
    "    # Run the GDAL merge process\n",
    "    processing.run(\"gdal:merge\", {\n",
    "        'INPUT': [input_file_1, input_file_2],\n",
    "        'PCT': False,\n",
    "        'SEPARATE': False,\n",
    "        'NODATA_INPUT': None,\n",
    "        'NODATA_OUTPUT': None,\n",
    "        'OPTIONS': '',\n",
    "        'EXTRA': '',\n",
    "        'DATA_TYPE': 5,\n",
    "        'OUTPUT': output_file\n",
    "    })\n",
    "\n",
    "print(\"Processing completed.\")\n"
   ]
  }
 ],
 "metadata": {
  "kernelspec": {
   "display_name": "Python 3 (ipykernel)",
   "language": "python",
   "name": "python3"
  },
  "language_info": {
   "codemirror_mode": {
    "name": "ipython",
    "version": 3
   },
   "file_extension": ".py",
   "mimetype": "text/x-python",
   "name": "python",
   "nbconvert_exporter": "python",
   "pygments_lexer": "ipython3",
   "version": "3.9.16"
  }
 },
 "nbformat": 4,
 "nbformat_minor": 5
}
