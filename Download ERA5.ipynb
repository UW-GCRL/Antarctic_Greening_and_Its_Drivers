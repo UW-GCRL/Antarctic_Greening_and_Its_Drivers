{
 "cells": [
  {
   "cell_type": "code",
   "execution_count": 5,
   "id": "a5ae72c7",
   "metadata": {
    "scrolled": false
   },
   "outputs": [
    {
     "name": "stderr",
     "output_type": "stream",
     "text": [
      "2024-11-11 11:07:06,179 INFO [2024-09-28T00:00:00] **Welcome to the New Climate Data Store (CDS)!** This new system is in its early days of full operations and still undergoing enhancements and fine tuning. Some disruptions are to be expected. Your \n",
      "[feedback](https://jira.ecmwf.int/plugins/servlet/desk/portal/1/create/202) is key to improve the user experience on the new CDS for the benefit of everyone. Thank you.\n",
      "2024-11-11 11:07:06,181 INFO [2024-09-26T00:00:00] Watch our [Forum](https://forum.ecmwf.int/) for Announcements, news and other discussed topics.\n",
      "2024-11-11 11:07:06,182 INFO [2024-09-16T00:00:00] Remember that you need to have an ECMWF account to use the new CDS. **Your old CDS credentials will not work in new CDS!**\n",
      "2024-11-11 11:07:06,184 WARNING [2024-06-16T00:00:00] CDS API syntax is changed and some keys or parameter names may have also changed. To avoid requests failing, please use the \"Show API request code\" tool on the dataset Download Form to check you are using the correct syntax for your API request.\n",
      "2024-11-11 11:07:06,886 INFO Request ID is 4abc1509-c233-408f-b381-cbb01b1891e3\n",
      "2024-11-11 11:07:07,016 INFO status has been updated to accepted\n",
      "2024-11-11 13:18:43,293 INFO status has been updated to running\n",
      "2024-11-11 13:26:48,863 INFO Daily reduction: mean {'time_shift': {'hours': 0}, 'remove_partial_periods': True}\n",
      "2024-11-11 13:28:50,806 INFO status has been updated to successful\n"
     ]
    },
    {
     "data": {
      "application/vnd.jupyter.widget-view+json": {
       "model_id": "",
       "version_major": 2,
       "version_minor": 0
      },
      "text/plain": [
       "3617fcc97e470d43e1142835f97a7514.nc:   0%|          | 0.00/55.7M [00:00<?, ?B/s]"
      ]
     },
     "metadata": {},
     "output_type": "display_data"
    },
    {
     "name": "stdout",
     "output_type": "stream",
     "text": [
      "Data for the year 2005 downloaded and saved as G:/Hangkai/Anttarctic Vegetation Dynamic/ERA5_Climate_Data/volumetric_soil_water_layer_1_2005.zip\n"
     ]
    },
    {
     "name": "stderr",
     "output_type": "stream",
     "text": [
      "2024-11-11 13:29:18,789 INFO Request ID is 86bc5c01-3b2d-4552-afff-1fc1c531ef27\n",
      "2024-11-11 13:29:18,932 INFO status has been updated to accepted\n",
      "2024-11-11 14:50:26,785 INFO status has been updated to running\n",
      "2024-11-11 15:00:32,758 INFO Daily reduction: mean {'time_shift': {'hours': 0}, 'remove_partial_periods': True}\n",
      "2024-11-11 15:02:33,881 INFO status has been updated to successful\n"
     ]
    },
    {
     "data": {
      "application/vnd.jupyter.widget-view+json": {
       "model_id": "",
       "version_major": 2,
       "version_minor": 0
      },
      "text/plain": [
       "7a7df69e5632060ced85eecfcaf6d399.nc:   0%|          | 0.00/60.2M [00:00<?, ?B/s]"
      ]
     },
     "metadata": {},
     "output_type": "display_data"
    },
    {
     "name": "stdout",
     "output_type": "stream",
     "text": [
      "Data for the year 2006 downloaded and saved as G:/Hangkai/Anttarctic Vegetation Dynamic/ERA5_Climate_Data/volumetric_soil_water_layer_1_2006.zip\n"
     ]
    },
    {
     "name": "stderr",
     "output_type": "stream",
     "text": [
      "2024-11-11 15:03:17,455 INFO Request ID is ea8d5a1b-f5c5-4536-98a3-cba59bc86acc\n",
      "2024-11-11 15:03:17,602 INFO status has been updated to accepted\n",
      "2024-11-11 15:17:43,389 INFO status has been updated to running\n",
      "2024-11-11 15:27:48,967 INFO Daily reduction: mean {'time_shift': {'hours': 0}, 'remove_partial_periods': True}\n",
      "2024-11-11 15:29:50,087 INFO status has been updated to successful\n"
     ]
    },
    {
     "data": {
      "application/vnd.jupyter.widget-view+json": {
       "model_id": "",
       "version_major": 2,
       "version_minor": 0
      },
      "text/plain": [
       "a09eb0e6beafc76e195af9b94428d65e.nc:   0%|          | 0.00/50.9M [00:00<?, ?B/s]"
      ]
     },
     "metadata": {},
     "output_type": "display_data"
    },
    {
     "name": "stdout",
     "output_type": "stream",
     "text": [
      "Data for the year 2007 downloaded and saved as G:/Hangkai/Anttarctic Vegetation Dynamic/ERA5_Climate_Data/volumetric_soil_water_layer_1_2007.zip\n"
     ]
    },
    {
     "name": "stderr",
     "output_type": "stream",
     "text": [
      "2024-11-11 15:30:16,532 INFO Request ID is 06b179f2-9264-46c4-bb43-97e004addca0\n",
      "2024-11-11 15:30:17,164 INFO status has been updated to accepted\n",
      "2024-11-11 17:23:48,948 INFO status has been updated to running\n",
      "2024-11-11 17:33:54,475 INFO Daily reduction: mean {'time_shift': {'hours': 0}, 'remove_partial_periods': True}\n",
      "2024-11-11 17:35:55,579 INFO status has been updated to successful\n"
     ]
    },
    {
     "data": {
      "application/vnd.jupyter.widget-view+json": {
       "model_id": "",
       "version_major": 2,
       "version_minor": 0
      },
      "text/plain": [
       "3c323299c0eca58973c5f669a7fed6a5.nc:   0%|          | 0.00/55.0M [00:00<?, ?B/s]"
      ]
     },
     "metadata": {},
     "output_type": "display_data"
    },
    {
     "name": "stdout",
     "output_type": "stream",
     "text": [
      "Data for the year 2008 downloaded and saved as G:/Hangkai/Anttarctic Vegetation Dynamic/ERA5_Climate_Data/volumetric_soil_water_layer_1_2008.zip\n"
     ]
    },
    {
     "name": "stderr",
     "output_type": "stream",
     "text": [
      "2024-11-11 17:36:43,534 INFO Request ID is f4ae5075-50e5-40a9-a562-def5cf791c54\n",
      "2024-11-11 17:36:43,675 INFO status has been updated to accepted\n",
      "2024-11-11 18:05:19,269 INFO status has been updated to running\n",
      "2024-11-11 18:13:24,254 INFO Daily reduction: mean {'time_shift': {'hours': 0}, 'remove_partial_periods': True}\n",
      "2024-11-11 18:17:26,592 INFO status has been updated to successful\n"
     ]
    },
    {
     "data": {
      "application/vnd.jupyter.widget-view+json": {
       "model_id": "",
       "version_major": 2,
       "version_minor": 0
      },
      "text/plain": [
       "6e2d44b451e572172ec66ee071acedb0.nc:   0%|          | 0.00/61.2M [00:00<?, ?B/s]"
      ]
     },
     "metadata": {},
     "output_type": "display_data"
    },
    {
     "name": "stdout",
     "output_type": "stream",
     "text": [
      "Data for the year 2009 downloaded and saved as G:/Hangkai/Anttarctic Vegetation Dynamic/ERA5_Climate_Data/volumetric_soil_water_layer_1_2009.zip\n"
     ]
    },
    {
     "name": "stderr",
     "output_type": "stream",
     "text": [
      "2024-11-11 18:18:51,922 INFO Request ID is 2f5ed865-de27-4278-8f91-081b2292ad7b\n",
      "2024-11-11 18:18:52,122 INFO status has been updated to accepted\n",
      "2024-11-11 18:27:15,480 INFO status has been updated to running\n",
      "2024-11-11 18:37:21,845 INFO Daily reduction: mean {'time_shift': {'hours': 0}, 'remove_partial_periods': True}\n",
      "2024-11-11 18:39:23,056 INFO status has been updated to successful\n"
     ]
    },
    {
     "data": {
      "application/vnd.jupyter.widget-view+json": {
       "model_id": "",
       "version_major": 2,
       "version_minor": 0
      },
      "text/plain": [
       "1e11f5319fd7d39d286530d6178d90f6.nc:   0%|          | 0.00/56.1M [00:00<?, ?B/s]"
      ]
     },
     "metadata": {},
     "output_type": "display_data"
    },
    {
     "name": "stdout",
     "output_type": "stream",
     "text": [
      "Data for the year 2010 downloaded and saved as G:/Hangkai/Anttarctic Vegetation Dynamic/ERA5_Climate_Data/volumetric_soil_water_layer_1_2010.zip\n"
     ]
    },
    {
     "name": "stderr",
     "output_type": "stream",
     "text": [
      "2024-11-11 18:40:39,474 INFO Request ID is 4e4187a4-9875-4d3c-92a4-8f34aa2711f2\n",
      "2024-11-11 18:40:39,680 INFO status has been updated to accepted\n",
      "2024-11-11 19:31:31,837 INFO status has been updated to running\n",
      "2024-11-11 19:39:37,337 INFO Daily reduction: mean {'time_shift': {'hours': 0}, 'remove_partial_periods': True}\n",
      "2024-11-11 19:41:38,682 INFO status has been updated to successful\n"
     ]
    },
    {
     "data": {
      "application/vnd.jupyter.widget-view+json": {
       "model_id": "",
       "version_major": 2,
       "version_minor": 0
      },
      "text/plain": [
       "81ba52baa8135d3ab7d5629099ad99ec.nc:   0%|          | 0.00/62.4M [00:00<?, ?B/s]"
      ]
     },
     "metadata": {},
     "output_type": "display_data"
    },
    {
     "name": "stdout",
     "output_type": "stream",
     "text": [
      "Data for the year 2011 downloaded and saved as G:/Hangkai/Anttarctic Vegetation Dynamic/ERA5_Climate_Data/volumetric_soil_water_layer_1_2011.zip\n"
     ]
    },
    {
     "name": "stderr",
     "output_type": "stream",
     "text": [
      "2024-11-11 19:43:17,484 INFO Request ID is b1298374-42ea-480e-86d2-9d1bb2d7d3db\n",
      "2024-11-11 19:43:17,638 INFO status has been updated to accepted\n",
      "2024-11-11 19:43:31,100 INFO status has been updated to running\n",
      "2024-11-11 19:53:42,542 INFO Daily reduction: mean {'time_shift': {'hours': 0}, 'remove_partial_periods': True}\n",
      "2024-11-11 19:55:43,725 INFO status has been updated to successful\n"
     ]
    },
    {
     "data": {
      "application/vnd.jupyter.widget-view+json": {
       "model_id": "",
       "version_major": 2,
       "version_minor": 0
      },
      "text/plain": [
       "3dfba64cbeb2c62a0c96c2df6237cf73.nc:   0%|          | 0.00/56.5M [00:00<?, ?B/s]"
      ]
     },
     "metadata": {},
     "output_type": "display_data"
    },
    {
     "name": "stdout",
     "output_type": "stream",
     "text": [
      "Data for the year 2012 downloaded and saved as G:/Hangkai/Anttarctic Vegetation Dynamic/ERA5_Climate_Data/volumetric_soil_water_layer_1_2012.zip\n"
     ]
    },
    {
     "name": "stderr",
     "output_type": "stream",
     "text": [
      "2024-11-11 19:57:31,122 INFO Request ID is 8d39a42e-4bba-4f4c-b1a9-db9ce60e2372\n",
      "2024-11-11 19:57:31,253 INFO status has been updated to accepted\n",
      "2024-11-12 13:01:56,989 INFO status has been updated to running\n",
      "2024-11-12 13:12:02,660 INFO Daily reduction: mean {'time_shift': {'hours': 0}, 'remove_partial_periods': True}\n",
      "2024-11-12 13:14:03,775 INFO status has been updated to successful\n"
     ]
    },
    {
     "data": {
      "application/vnd.jupyter.widget-view+json": {
       "model_id": "",
       "version_major": 2,
       "version_minor": 0
      },
      "text/plain": [
       "6bfcaf9901a4c7882093fade355b2ae2.nc:   0%|          | 0.00/55.9M [00:00<?, ?B/s]"
      ]
     },
     "metadata": {},
     "output_type": "display_data"
    },
    {
     "name": "stdout",
     "output_type": "stream",
     "text": [
      "Data for the year 2013 downloaded and saved as G:/Hangkai/Anttarctic Vegetation Dynamic/ERA5_Climate_Data/volumetric_soil_water_layer_1_2013.zip\n"
     ]
    },
    {
     "name": "stderr",
     "output_type": "stream",
     "text": [
      "2024-11-12 13:14:27,796 INFO Request ID is dd4d8a92-a977-4aa6-bab8-a950042b1422\n",
      "2024-11-12 13:14:27,965 INFO status has been updated to accepted\n",
      "2024-11-12 14:51:45,753 INFO status has been updated to running\n",
      "2024-11-12 14:59:50,629 INFO Daily reduction: mean {'time_shift': {'hours': 0}, 'remove_partial_periods': True}\n",
      "2024-11-12 15:03:53,127 INFO status has been updated to successful\n"
     ]
    },
    {
     "data": {
      "application/vnd.jupyter.widget-view+json": {
       "model_id": "",
       "version_major": 2,
       "version_minor": 0
      },
      "text/plain": [
       "61bc60198b58df674d3e8cdc5f3c1373.nc:   0%|          | 0.00/54.6M [00:00<?, ?B/s]"
      ]
     },
     "metadata": {},
     "output_type": "display_data"
    },
    {
     "name": "stdout",
     "output_type": "stream",
     "text": [
      "Data for the year 2014 downloaded and saved as G:/Hangkai/Anttarctic Vegetation Dynamic/ERA5_Climate_Data/volumetric_soil_water_layer_1_2014.zip\n"
     ]
    },
    {
     "name": "stderr",
     "output_type": "stream",
     "text": [
      "2024-11-12 15:04:21,265 INFO Request ID is b44b0e93-62b4-4e0e-946d-ae77e5fde021\n",
      "2024-11-12 15:04:21,410 INFO status has been updated to accepted\n",
      "2024-11-12 15:16:46,614 INFO status has been updated to running\n",
      "2024-11-12 15:24:51,224 INFO Daily reduction: mean {'time_shift': {'hours': 0}, 'remove_partial_periods': True}\n",
      "2024-11-12 15:28:53,656 INFO status has been updated to successful\n"
     ]
    },
    {
     "data": {
      "application/vnd.jupyter.widget-view+json": {
       "model_id": "",
       "version_major": 2,
       "version_minor": 0
      },
      "text/plain": [
       "ff1198a1cf046026220f9414b0c46881.nc:   0%|          | 0.00/57.1M [00:00<?, ?B/s]"
      ]
     },
     "metadata": {},
     "output_type": "display_data"
    },
    {
     "name": "stdout",
     "output_type": "stream",
     "text": [
      "Data for the year 2015 downloaded and saved as G:/Hangkai/Anttarctic Vegetation Dynamic/ERA5_Climate_Data/volumetric_soil_water_layer_1_2015.zip\n"
     ]
    },
    {
     "name": "stderr",
     "output_type": "stream",
     "text": [
      "2024-11-12 15:29:25,551 INFO Request ID is e4ba98fd-ad2d-4459-aa99-42a2de741824\n",
      "2024-11-12 15:29:25,727 INFO status has been updated to accepted\n",
      "2024-11-12 16:32:30,943 INFO status has been updated to running\n",
      "2024-11-12 16:40:35,749 INFO Daily reduction: mean {'time_shift': {'hours': 0}, 'remove_partial_periods': True}\n",
      "2024-11-12 16:44:38,015 INFO status has been updated to successful\n"
     ]
    },
    {
     "data": {
      "application/vnd.jupyter.widget-view+json": {
       "model_id": "",
       "version_major": 2,
       "version_minor": 0
      },
      "text/plain": [
       "4d3dc6e582cdbe4d81ed22395729ac49.nc:   0%|          | 0.00/58.0M [00:00<?, ?B/s]"
      ]
     },
     "metadata": {},
     "output_type": "display_data"
    },
    {
     "name": "stdout",
     "output_type": "stream",
     "text": [
      "Data for the year 2016 downloaded and saved as G:/Hangkai/Anttarctic Vegetation Dynamic/ERA5_Climate_Data/volumetric_soil_water_layer_1_2016.zip\n"
     ]
    },
    {
     "name": "stderr",
     "output_type": "stream",
     "text": [
      "2024-11-12 16:45:17,463 INFO Request ID is 41e7cab3-17ee-4991-8bef-ec2d57ce7e92\n",
      "2024-11-12 16:45:17,592 INFO status has been updated to accepted\n",
      "2024-11-12 17:36:04,747 INFO status has been updated to running\n",
      "2024-11-12 17:46:11,159 INFO Daily reduction: mean {'time_shift': {'hours': 0}, 'remove_partial_periods': True}\n",
      "2024-11-12 17:50:13,532 INFO status has been updated to successful\n"
     ]
    },
    {
     "data": {
      "application/vnd.jupyter.widget-view+json": {
       "model_id": "",
       "version_major": 2,
       "version_minor": 0
      },
      "text/plain": [
       "3730f0c4536c01acf3034030e8a6aecd.nc:   0%|          | 0.00/58.5M [00:00<?, ?B/s]"
      ]
     },
     "metadata": {},
     "output_type": "display_data"
    },
    {
     "name": "stdout",
     "output_type": "stream",
     "text": [
      "Data for the year 2017 downloaded and saved as G:/Hangkai/Anttarctic Vegetation Dynamic/ERA5_Climate_Data/volumetric_soil_water_layer_1_2017.zip\n"
     ]
    },
    {
     "name": "stderr",
     "output_type": "stream",
     "text": [
      "2024-11-12 17:50:47,779 INFO Request ID is a227fba3-f0b8-4569-9bcb-8627bac32648\n",
      "2024-11-12 17:50:47,907 INFO status has been updated to accepted\n",
      "2024-11-12 18:39:34,202 INFO status has been updated to running\n",
      "2024-11-12 18:47:38,709 INFO Daily reduction: mean {'time_shift': {'hours': 0}, 'remove_partial_periods': True}\n",
      "2024-11-12 18:49:39,811 INFO status has been updated to successful\n"
     ]
    },
    {
     "data": {
      "application/vnd.jupyter.widget-view+json": {
       "model_id": "",
       "version_major": 2,
       "version_minor": 0
      },
      "text/plain": [
       "a1f48e34e0193af17348f94129c31334.nc:   0%|          | 0.00/58.2M [00:00<?, ?B/s]"
      ]
     },
     "metadata": {},
     "output_type": "display_data"
    },
    {
     "name": "stdout",
     "output_type": "stream",
     "text": [
      "Data for the year 2018 downloaded and saved as G:/Hangkai/Anttarctic Vegetation Dynamic/ERA5_Climate_Data/volumetric_soil_water_layer_1_2018.zip\n"
     ]
    },
    {
     "name": "stderr",
     "output_type": "stream",
     "text": [
      "2024-11-12 18:50:08,334 INFO Request ID is 7385e7fe-1449-4002-8997-e66c6fd85f65\n",
      "2024-11-12 18:50:08,496 INFO status has been updated to accepted\n",
      "2024-11-12 23:00:56,017 INFO status has been updated to running\n",
      "2024-11-12 23:11:02,557 INFO Daily reduction: mean {'time_shift': {'hours': 0}, 'remove_partial_periods': True}\n",
      "2024-11-12 23:15:05,753 INFO status has been updated to successful\n"
     ]
    },
    {
     "data": {
      "application/vnd.jupyter.widget-view+json": {
       "model_id": "",
       "version_major": 2,
       "version_minor": 0
      },
      "text/plain": [
       "811b5100723ddbd2b0f8e536a647feb1.nc:   0%|          | 0.00/56.8M [00:00<?, ?B/s]"
      ]
     },
     "metadata": {},
     "output_type": "display_data"
    },
    {
     "name": "stdout",
     "output_type": "stream",
     "text": [
      "Data for the year 2019 downloaded and saved as G:/Hangkai/Anttarctic Vegetation Dynamic/ERA5_Climate_Data/volumetric_soil_water_layer_1_2019.zip\n"
     ]
    },
    {
     "name": "stderr",
     "output_type": "stream",
     "text": [
      "2024-11-12 23:15:39,574 INFO Request ID is 3cfb0b99-67a7-4f34-974d-08839f75164e\n",
      "2024-11-12 23:15:39,704 INFO status has been updated to accepted\n",
      "Recovering from connection error [HTTPSConnectionPool(host='cds.climate.copernicus.eu', port=443): Max retries exceeded with url: /api/retrieve/v1/jobs/3cfb0b99-67a7-4f34-974d-08839f75164e?log=True&request=True (Caused by NewConnectionError('<urllib3.connection.HTTPSConnection object at 0x0000029EF00A9250>: Failed to establish a new connection: [WinError 10060] A connection attempt failed because the connected party did not properly respond after a period of time, or established connection failed because connected host has failed to respond'))], attemps 1 of 500\n",
      "Retrying in 120 seconds\n",
      "Recovering from connection error [HTTPSConnectionPool(host='cds.climate.copernicus.eu', port=443): Read timed out. (read timeout=60)], attemps 1 of 500\n",
      "Retrying in 120 seconds\n",
      "Recovering from connection error [('Connection aborted.', ConnectionResetError(10054, 'An existing connection was forcibly closed by the remote host', None, 10054, None))], attemps 1 of 500\n",
      "Retrying in 120 seconds\n",
      "Recovering from connection error [HTTPSConnectionPool(host='cds.climate.copernicus.eu', port=443): Max retries exceeded with url: /api/retrieve/v1/jobs/3cfb0b99-67a7-4f34-974d-08839f75164e?log=True&request=True (Caused by NewConnectionError('<urllib3.connection.HTTPSConnection object at 0x0000029EF01F6280>: Failed to establish a new connection: [WinError 10060] A connection attempt failed because the connected party did not properly respond after a period of time, or established connection failed because connected host has failed to respond'))], attemps 1 of 500\n",
      "Retrying in 120 seconds\n",
      "Recovering from connection error [HTTPSConnectionPool(host='cds.climate.copernicus.eu', port=443): Read timed out. (read timeout=60)], attemps 1 of 500\n",
      "Retrying in 120 seconds\n",
      "2024-11-13 13:40:03,290 INFO status has been updated to successful\n"
     ]
    },
    {
     "data": {
      "application/vnd.jupyter.widget-view+json": {
       "model_id": "",
       "version_major": 2,
       "version_minor": 0
      },
      "text/plain": [
       "f26a9a368640496e7de4190289e469f2.nc:   0%|          | 0.00/58.1M [00:00<?, ?B/s]"
      ]
     },
     "metadata": {},
     "output_type": "display_data"
    },
    {
     "name": "stdout",
     "output_type": "stream",
     "text": [
      "Data for the year 2020 downloaded and saved as G:/Hangkai/Anttarctic Vegetation Dynamic/ERA5_Climate_Data/volumetric_soil_water_layer_1_2020.zip\n"
     ]
    },
    {
     "name": "stderr",
     "output_type": "stream",
     "text": [
      "2024-11-13 13:40:47,715 INFO Request ID is d114bf53-300d-4dfa-81ab-a966780e036e\n",
      "2024-11-13 13:40:47,899 INFO status has been updated to accepted\n",
      "2024-11-13 13:41:00,773 INFO status has been updated to successful\n"
     ]
    },
    {
     "data": {
      "application/vnd.jupyter.widget-view+json": {
       "model_id": "",
       "version_major": 2,
       "version_minor": 0
      },
      "text/plain": [
       "583214f41c29a687089f9be769896521.nc:   0%|          | 0.00/56.3M [00:00<?, ?B/s]"
      ]
     },
     "metadata": {},
     "output_type": "display_data"
    },
    {
     "name": "stdout",
     "output_type": "stream",
     "text": [
      "Data for the year 2021 downloaded and saved as G:/Hangkai/Anttarctic Vegetation Dynamic/ERA5_Climate_Data/volumetric_soil_water_layer_1_2021.zip\n"
     ]
    },
    {
     "name": "stderr",
     "output_type": "stream",
     "text": [
      "2024-11-13 13:41:33,833 INFO Request ID is 383bce44-241d-42e4-9ad9-c39f6d475a26\n",
      "2024-11-13 13:41:33,995 INFO status has been updated to accepted\n",
      "2024-11-13 13:41:38,088 INFO status has been updated to running\n",
      "2024-11-13 13:41:41,667 INFO status has been updated to successful\n"
     ]
    },
    {
     "data": {
      "application/vnd.jupyter.widget-view+json": {
       "model_id": "",
       "version_major": 2,
       "version_minor": 0
      },
      "text/plain": [
       "9ae2565a66d133a1e7a5be4de52ce668.nc:   0%|          | 0.00/58.4M [00:00<?, ?B/s]"
      ]
     },
     "metadata": {},
     "output_type": "display_data"
    },
    {
     "name": "stdout",
     "output_type": "stream",
     "text": [
      "Data for the year 2022 downloaded and saved as G:/Hangkai/Anttarctic Vegetation Dynamic/ERA5_Climate_Data/volumetric_soil_water_layer_1_2022.zip\n"
     ]
    },
    {
     "name": "stderr",
     "output_type": "stream",
     "text": [
      "2024-11-13 13:42:15,435 INFO Request ID is 82463e6f-587b-49b3-8007-29967708ee50\n",
      "2024-11-13 13:42:15,625 INFO status has been updated to accepted\n",
      "2024-11-13 13:42:19,970 INFO status has been updated to running\n",
      "2024-11-13 13:42:49,488 INFO status has been updated to successful\n"
     ]
    },
    {
     "data": {
      "application/vnd.jupyter.widget-view+json": {
       "model_id": "",
       "version_major": 2,
       "version_minor": 0
      },
      "text/plain": [
       "2facbca6f4f35380ce0790ec496f03bd.nc:   0%|          | 0.00/56.5M [00:00<?, ?B/s]"
      ]
     },
     "metadata": {},
     "output_type": "display_data"
    },
    {
     "name": "stdout",
     "output_type": "stream",
     "text": [
      "Data for the year 2023 downloaded and saved as G:/Hangkai/Anttarctic Vegetation Dynamic/ERA5_Climate_Data/volumetric_soil_water_layer_1_2023.zip\n"
     ]
    },
    {
     "name": "stderr",
     "output_type": "stream",
     "text": [
      "2024-11-13 13:43:15,655 INFO Request ID is a80f19ad-1ede-401f-8738-2480fb771674\n",
      "2024-11-13 13:43:15,883 INFO status has been updated to accepted\n",
      "2024-11-13 13:43:20,425 INFO status has been updated to running\n",
      "2024-11-13 13:55:41,985 INFO Daily reduction: mean {'time_shift': {'hours': 0}, 'remove_partial_periods': True}\n",
      "2024-11-13 13:57:43,145 INFO status has been updated to successful\n"
     ]
    },
    {
     "data": {
      "application/vnd.jupyter.widget-view+json": {
       "model_id": "",
       "version_major": 2,
       "version_minor": 0
      },
      "text/plain": [
       "6c69fbc7735ab8201aaec078761b4bcb.nc:   0%|          | 0.00/48.3M [00:00<?, ?B/s]"
      ]
     },
     "metadata": {},
     "output_type": "display_data"
    },
    {
     "name": "stdout",
     "output_type": "stream",
     "text": [
      "Data for the year 2024 downloaded and saved as G:/Hangkai/Anttarctic Vegetation Dynamic/ERA5_Climate_Data/volumetric_soil_water_layer_1_2024.zip\n"
     ]
    }
   ],
   "source": [
    "import cdsapi\n",
    "\n",
    "    \n",
    "# Create a client instance\n",
    "client = cdsapi.Client()\n",
    "\n",
    "# Dataset details\n",
    "dataset = \"derived-era5-single-levels-daily-statistics\"\n",
    "variables = {\n",
    "    \"product_type\": \"reanalysis\",\n",
    "    \"variable\": [\"volumetric_soil_water_layer_1\"],\n",
    "    \"month\": [\n",
    "        \"01\", \"02\", \"03\",\n",
    "        \"09\", \"10\", \"11\",\n",
    "        \"12\"],\n",
    "    \"day\": [\n",
    "        \"01\", \"02\", \"03\",\n",
    "        \"04\", \"05\", \"06\",\n",
    "        \"07\", \"08\", \"09\",\n",
    "        \"10\", \"11\", \"12\",\n",
    "        \"13\", \"14\", \"15\",\n",
    "        \"16\", \"17\", \"18\",\n",
    "        \"19\", \"20\", \"21\",\n",
    "        \"22\", \"23\", \"24\",\n",
    "        \"25\", \"26\", \"27\",\n",
    "        \"28\", \"29\", \"30\",\n",
    "        \"31\"\n",
    "    ],\n",
    "    \"daily_statistic\": \"daily_mean\",\n",
    "    \"time_zone\": \"utc+00:00\",\n",
    "    \"frequency\": \"1_hourly\",\n",
    "    \"area\": [-60, -180, -90, 180]\n",
    "}\n",
    "\n",
    "# Iterate over each year and send a request\n",
    "for year in range(2005, 2025):  # Update the range as necessary\n",
    "    # Update the year in the request dictionary\n",
    "    variables['year'] = [str(year)]\n",
    "    \n",
    "    # Define the output file name for each year\n",
    "    output_file = f'G:/Hangkai/Anttarctic Vegetation Dynamic/ERA5_Climate_Data/volumetric_soil_water_layer_1_{year}.zip'\n",
    "    \n",
    "    # Retrieve and download the data for the specific year\n",
    "    client.retrieve(dataset, variables).download(output_file)\n",
    "    \n",
    "    # Print the status message\n",
    "    print(f'Data for the year {year} downloaded and saved as {output_file}')"
   ]
  },
  {
   "cell_type": "code",
   "execution_count": 7,
   "id": "ff84d6cd",
   "metadata": {
    "scrolled": false
   },
   "outputs": [
    {
     "name": "stderr",
     "output_type": "stream",
     "text": [
      "2024-11-20 09:47:10,188 WARNING [2024-11-19T00:00:00] Issue with underlaying infrastructure is now solved. System should gradually recover. Please check updated status [here](https://status.ecmwf.int/)\n",
      "2024-11-20 09:47:10,188 INFO [2024-09-28T00:00:00] **Welcome to the New Climate Data Store (CDS)!** This new system is in its early days of full operations and still undergoing enhancements and fine tuning. Some disruptions are to be expected. Your \n",
      "[feedback](https://jira.ecmwf.int/plugins/servlet/desk/portal/1/create/202) is key to improve the user experience on the new CDS for the benefit of everyone. Thank you.\n",
      "2024-11-20 09:47:10,189 INFO [2024-09-26T00:00:00] Watch our [Forum](https://forum.ecmwf.int/) for Announcements, news and other discussed topics.\n",
      "2024-11-20 09:47:10,190 INFO [2024-09-16T00:00:00] Remember that you need to have an ECMWF account to use the new CDS. **Your old CDS credentials will not work in new CDS!**\n",
      "2024-11-20 09:47:10,190 WARNING [2024-06-16T00:00:00] CDS API syntax is changed and some keys or parameter names may have also changed. To avoid requests failing, please use the \"Show API request code\" tool on the dataset Download Form to check you are using the correct syntax for your API request.\n",
      "2024-11-20 09:47:10,592 INFO Request ID is a94e72e5-9aa4-4bb5-82ff-b0c2919c4f5a\n",
      "2024-11-20 09:47:10,750 INFO status has been updated to accepted\n",
      "2024-11-20 09:47:18,525 INFO status has been updated to successful\n"
     ]
    },
    {
     "data": {
      "application/vnd.jupyter.widget-view+json": {
       "model_id": "",
       "version_major": 2,
       "version_minor": 0
      },
      "text/plain": [
       "53e892b9b13bc8498d5e197041596533.nc:   0%|          | 0.00/92.1M [00:00<?, ?B/s]"
      ]
     },
     "metadata": {},
     "output_type": "display_data"
    },
    {
     "name": "stdout",
     "output_type": "stream",
     "text": [
      "Data for the year 2015 downloaded and saved as G:/Hangkai/Anttarctic Vegetation Dynamic/ERA5_Climate_Data/relative_humidity_2015.nc\n"
     ]
    }
   ],
   "source": [
    "import cdsapi\n",
    "\n",
    "    \n",
    "# Create a client instance\n",
    "client = cdsapi.Client()\n",
    "\n",
    "# Dataset details\n",
    "dataset = \"derived-era5-pressure-levels-daily-statistics\"\n",
    "variables = {\n",
    "    \"product_type\": \"reanalysis\",\n",
    "    \"variable\": [\"relative_humidity\"],\n",
    "    \"month\": [\n",
    "        \"01\", \"02\", \"03\",\n",
    "        \"09\", \"10\", \"11\",\n",
    "        \"12\"\n",
    "    ],\n",
    "    \"day\": [\n",
    "        \"01\", \"02\", \"03\",\n",
    "        \"04\", \"05\", \"06\",\n",
    "        \"07\", \"08\", \"09\",\n",
    "        \"10\", \"11\", \"12\",\n",
    "        \"13\", \"14\", \"15\",\n",
    "        \"16\", \"17\", \"18\",\n",
    "        \"19\", \"20\", \"21\",\n",
    "        \"22\", \"23\", \"24\",\n",
    "        \"25\", \"26\", \"27\",\n",
    "        \"28\", \"29\", \"30\",\n",
    "        \"31\"\n",
    "    ],\n",
    "    \"pressure_level\": [\"1000\"],\n",
    "    \"daily_statistic\": \"daily_mean\",\n",
    "    \"time_zone\": \"utc+00:00\",\n",
    "    \"frequency\": \"1_hourly\",\n",
    "    \"area\": [-60, -180, -90, 180]\n",
    "}\n",
    "\n",
    "# Iterate over each year and send a request\n",
    "for year in range(2015, 2016):  # Update the range as necessary\n",
    "    # Update the year in the request dictionary\n",
    "    variables['year'] = [str(year)]\n",
    "    \n",
    "    # Define the output file name for each year\n",
    "    output_file = f'G:/Hangkai/Anttarctic Vegetation Dynamic/ERA5_Climate_Data/relative_humidity_{year}.nc'\n",
    "    \n",
    "    # Retrieve and download the data for the specific year\n",
    "    client.retrieve(dataset, variables).download(output_file)\n",
    "    \n",
    "    # Print the status message\n",
    "    print(f'Data for the year {year} downloaded and saved as {output_file}')"
   ]
  },
  {
   "cell_type": "code",
   "execution_count": 6,
   "id": "87d07fbf",
   "metadata": {},
   "outputs": [
    {
     "name": "stdout",
     "output_type": "stream",
     "text": [
      "Reprojection complete for year 2002. Output saved to: G:/Hangkai/Anttarctic Vegetation Dynamic/ERA5_Climate_Data/2m_temperature/2m_temperature_2002.tif\n",
      "Reprojection complete for year 2003. Output saved to: G:/Hangkai/Anttarctic Vegetation Dynamic/ERA5_Climate_Data/2m_temperature/2m_temperature_2003.tif\n",
      "Reprojection complete for year 2004. Output saved to: G:/Hangkai/Anttarctic Vegetation Dynamic/ERA5_Climate_Data/2m_temperature/2m_temperature_2004.tif\n",
      "Reprojection complete for year 2005. Output saved to: G:/Hangkai/Anttarctic Vegetation Dynamic/ERA5_Climate_Data/2m_temperature/2m_temperature_2005.tif\n",
      "Reprojection complete for year 2006. Output saved to: G:/Hangkai/Anttarctic Vegetation Dynamic/ERA5_Climate_Data/2m_temperature/2m_temperature_2006.tif\n",
      "Reprojection complete for year 2007. Output saved to: G:/Hangkai/Anttarctic Vegetation Dynamic/ERA5_Climate_Data/2m_temperature/2m_temperature_2007.tif\n",
      "Reprojection complete for year 2008. Output saved to: G:/Hangkai/Anttarctic Vegetation Dynamic/ERA5_Climate_Data/2m_temperature/2m_temperature_2008.tif\n",
      "Reprojection complete for year 2009. Output saved to: G:/Hangkai/Anttarctic Vegetation Dynamic/ERA5_Climate_Data/2m_temperature/2m_temperature_2009.tif\n",
      "Reprojection complete for year 2010. Output saved to: G:/Hangkai/Anttarctic Vegetation Dynamic/ERA5_Climate_Data/2m_temperature/2m_temperature_2010.tif\n",
      "Reprojection complete for year 2011. Output saved to: G:/Hangkai/Anttarctic Vegetation Dynamic/ERA5_Climate_Data/2m_temperature/2m_temperature_2011.tif\n",
      "Reprojection complete for year 2012. Output saved to: G:/Hangkai/Anttarctic Vegetation Dynamic/ERA5_Climate_Data/2m_temperature/2m_temperature_2012.tif\n",
      "Reprojection complete for year 2013. Output saved to: G:/Hangkai/Anttarctic Vegetation Dynamic/ERA5_Climate_Data/2m_temperature/2m_temperature_2013.tif\n",
      "Reprojection complete for year 2014. Output saved to: G:/Hangkai/Anttarctic Vegetation Dynamic/ERA5_Climate_Data/2m_temperature/2m_temperature_2014.tif\n",
      "Reprojection complete for year 2015. Output saved to: G:/Hangkai/Anttarctic Vegetation Dynamic/ERA5_Climate_Data/2m_temperature/2m_temperature_2015.tif\n",
      "Reprojection complete for year 2016. Output saved to: G:/Hangkai/Anttarctic Vegetation Dynamic/ERA5_Climate_Data/2m_temperature/2m_temperature_2016.tif\n",
      "Reprojection complete for year 2017. Output saved to: G:/Hangkai/Anttarctic Vegetation Dynamic/ERA5_Climate_Data/2m_temperature/2m_temperature_2017.tif\n",
      "Reprojection complete for year 2018. Output saved to: G:/Hangkai/Anttarctic Vegetation Dynamic/ERA5_Climate_Data/2m_temperature/2m_temperature_2018.tif\n",
      "Reprojection complete for year 2019. Output saved to: G:/Hangkai/Anttarctic Vegetation Dynamic/ERA5_Climate_Data/2m_temperature/2m_temperature_2019.tif\n",
      "Reprojection complete for year 2020. Output saved to: G:/Hangkai/Anttarctic Vegetation Dynamic/ERA5_Climate_Data/2m_temperature/2m_temperature_2020.tif\n",
      "Reprojection complete for year 2021. Output saved to: G:/Hangkai/Anttarctic Vegetation Dynamic/ERA5_Climate_Data/2m_temperature/2m_temperature_2021.tif\n",
      "Reprojection complete for year 2022. Output saved to: G:/Hangkai/Anttarctic Vegetation Dynamic/ERA5_Climate_Data/2m_temperature/2m_temperature_2022.tif\n",
      "Reprojection complete for year 2023. Output saved to: G:/Hangkai/Anttarctic Vegetation Dynamic/ERA5_Climate_Data/2m_temperature/2m_temperature_2023.tif\n",
      "Mean value for year 2002  is:  241.47653\n",
      "Mean value for year 2003  is:  241.82921\n",
      "Mean value for year 2004  is:  241.7502\n",
      "Mean value for year 2005  is:  242.60591\n",
      "Mean value for year 2006  is:  241.42828\n",
      "Mean value for year 2007  is:  241.599\n",
      "Mean value for year 2008  is:  241.38068\n",
      "Mean value for year 2009  is:  242.12358\n",
      "Mean value for year 2010  is:  242.18211\n",
      "Mean value for year 2011  is:  242.6617\n",
      "Mean value for year 2012  is:  242.7038\n",
      "Mean value for year 2013  is:  242.90746\n",
      "Mean value for year 2014  is:  241.87877\n",
      "Mean value for year 2015  is:  242.67894\n",
      "Mean value for year 2016  is:  243.06061\n",
      "Mean value for year 2017  is:  242.55807\n",
      "Mean value for year 2018  is:  242.98282\n",
      "Mean value for year 2019  is:  242.78593\n",
      "Mean value for year 2020  is:  242.25075\n",
      "Mean value for year 2021  is:  242.05388\n",
      "Mean value for year 2022  is:  241.51476\n",
      "Mean value for year 2023  is:  242.27328\n"
     ]
    }
   ],
   "source": [
    "import os\n",
    "import netCDF4 as nc\n",
    "import numpy as np\n",
    "import rasterio\n",
    "from rasterio.transform import from_origin\n",
    "import zipfile\n",
    "import tempfile\n",
    "from datetime import datetime\n",
    "\n",
    "def date_in_range(year, month, day):\n",
    "    start_date = datetime(year, 9, 23)\n",
    "    end_date = datetime(year + 1, 3, 21)\n",
    "    current_date = datetime(year, month, day)\n",
    "    if current_date >= start_date:\n",
    "        return True\n",
    "    if current_date <= end_date and current_date.year == year + 1:\n",
    "        return True\n",
    "    return False\n",
    "\n",
    "folder_path = r'G:\\Hangkai\\Anttarctic Vegetation Dynamic\\ERA5_Climate_Data'\n",
    "output_folder_path = r'G:\\Hangkai\\Anttarctic Vegetation Dynamic\\ERA5_Climate_Data\\2m_temperature'\n",
    "years = range(2002, 2024)  # From 2002 to 2023\n",
    "\n",
    "for year in years:\n",
    "    zip_path = os.path.join(folder_path, f'2m_temperature_{year}.zip')\n",
    "    sum_precip = None\n",
    "    count = 0\n",
    "\n",
    "    with zipfile.ZipFile(zip_path, 'r') as zip_ref:\n",
    "        for file_name in zip_ref.namelist():\n",
    "            if file_name.endswith('.nc'):\n",
    "                date_str = file_name.split('_')[-2]\n",
    "                date_obj = datetime.strptime(date_str, \"%Y%m%d\")\n",
    "                if date_in_range(year, date_obj.month, date_obj.day):\n",
    "                    with tempfile.TemporaryDirectory() as tmpdirname:\n",
    "                        local_nc_path = os.path.join(tmpdirname, file_name)\n",
    "                        zip_ref.extract(file_name, tmpdirname)\n",
    "                        with nc.Dataset(local_nc_path) as ds:\n",
    "                            precip_data = ds.variables['Temperature_Air_2m_Mean_24h'][:]\n",
    "                            fill_value = ds.variables['Temperature_Air_2m_Mean_24h']._FillValue\n",
    "                            precip_data = np.where(precip_data == fill_value, np.nan, precip_data)\n",
    "                            if sum_precip is None:\n",
    "                                sum_precip = np.zeros_like(precip_data, dtype=float)\n",
    "                            sum_precip += precip_data\n",
    "                            count += 1\n",
    "\n",
    "    if count > 0:\n",
    "        average_precip = sum_precip / count\n",
    "        average_precip = np.nan_to_num(average_precip, nan=0.0)\n",
    "        average_precip = average_precip.squeeze()\n",
    "        output_path = os.path.join(output_folder_path, f'average_2m_temperature_{year}.tif')\n",
    "\n",
    "        # Check if the output directory exists, create if not\n",
    "        os.makedirs(output_folder_path, exist_ok=True)\n",
    "\n",
    "        with rasterio.open(output_path, 'w', driver='GTiff', height=average_precip.shape[0],\n",
    "                           width=average_precip.shape[1], count=1, dtype=str(average_precip.dtype),\n",
    "                           crs='+proj=latlong', transform=from_origin(-180, -60, 0.1, 0.1)) as dst:\n",
    "            dst.write(average_precip, 1)\n",
    "\n",
    "from osgeo import gdal\n",
    "\n",
    "# Base file paths and template\n",
    "template_path = \"G:/Hangkai/Anttarctic Vegetation Dynamic/Version_2_data/Antarctica_Vegetation_Duration/First_last/First_2003.tif\"\n",
    "base_input_path = \"G:/Hangkai/Anttarctic Vegetation Dynamic/ERA5_Climate_Data/2m_temperature/average_2m_temperature_{year}.tif\"\n",
    "base_output_path = \"G:/Hangkai/Anttarctic Vegetation Dynamic/ERA5_Climate_Data/2m_temperature/2m_temperature_{year}.tif\"\n",
    "\n",
    "# Open template file\n",
    "template_ds = gdal.Open(template_path, gdal.GA_ReadOnly)\n",
    "template_proj = template_ds.GetProjection()\n",
    "template_geotrans = template_ds.GetGeoTransform()\n",
    "x_size = template_ds.RasterXSize\n",
    "y_size = template_ds.RasterYSize\n",
    "\n",
    "# Loop through the years\n",
    "for year in range(2002, 2024):\n",
    "    input_path = base_input_path.format(year=year)\n",
    "    output_path = base_output_path.format(year=year)\n",
    "    \n",
    "    # Create output file\n",
    "    driver = gdal.GetDriverByName('GTiff')\n",
    "    output_ds = driver.Create(output_path, x_size, y_size, 1, gdal.GDT_Float32)\n",
    "    output_ds.SetProjection(template_proj)\n",
    "    output_ds.SetGeoTransform(template_geotrans)\n",
    "\n",
    "    # Setup reprojection options using nearest neighbor interpolation\n",
    "    warp_options = gdal.WarpOptions(\n",
    "        srcSRS='EPSG:4326',  # Source coordinate system\n",
    "        dstSRS=template_proj,  # Destination coordinate system\n",
    "        resampleAlg=gdal.GRA_NearestNeighbour,\n",
    "        outputBounds=[template_geotrans[0], template_geotrans[3] + y_size * template_geotrans[5], template_geotrans[0] + x_size * template_geotrans[1], template_geotrans[3]],\n",
    "        width=x_size,\n",
    "        height=y_size\n",
    "    )\n",
    "\n",
    "    # Execute reprojection\n",
    "    gdal.Warp(output_ds, gdal.Open(input_path), options=warp_options)\n",
    "\n",
    "    # Close datasets\n",
    "    output_ds = None\n",
    "\n",
    "    print(\"Reprojection complete for year {}. Output saved to: {}\".format(year, output_path))\n",
    "\n",
    "# Close template dataset\n",
    "template_ds = None\n",
    "\n",
    "from osgeo import gdal\n",
    "import numpy as np\n",
    "import rasterio\n",
    "\n",
    "# Base output path from previous reprojection\n",
    "base_output_path = \"G:/Hangkai/Anttarctic Vegetation Dynamic/ERA5_Climate_Data/2m_temperature/2m_temperature_{year}.tif\"\n",
    "# Loop through the years\n",
    "for year in range(2002, 2024):\n",
    "    output_path = base_output_path.format(year=year)\n",
    "\n",
    "    with rasterio.open(output_path) as src:\n",
    "            # Read the first band\n",
    "            band = src.read(1)\n",
    "    \n",
    "    # Replace no data values and NaN values with np.nan\n",
    "    band[band == -9999] = np.nan\n",
    "    \n",
    "    # Compute mean, ignoring NaN values\n",
    "    mean_value = np.nanmean(np.nanmean(band))\n",
    "    \n",
    "    # Output the result\n",
    "    print(\"Mean value for year\", year, \" is: \", mean_value)\n",
    "\n",
    "    # Close the dataset\n",
    "    ds = None"
   ]
  }
 ],
 "metadata": {
  "kernelspec": {
   "display_name": "Python 3 (ipykernel)",
   "language": "python",
   "name": "python3"
  },
  "language_info": {
   "codemirror_mode": {
    "name": "ipython",
    "version": 3
   },
   "file_extension": ".py",
   "mimetype": "text/x-python",
   "name": "python",
   "nbconvert_exporter": "python",
   "pygments_lexer": "ipython3",
   "version": "3.8.16"
  }
 },
 "nbformat": 4,
 "nbformat_minor": 5
}
